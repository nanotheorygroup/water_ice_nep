{
  "nbformat": 4,
  "nbformat_minor": 0,
  "metadata": {
    "colab": {
      "provenance": []
    },
    "kernelspec": {
      "name": "python3",
      "display_name": "Python 3"
    },
    "language_info": {
      "name": "python"
    },
    "accelerator": "GPU",
    "gpuClass": "standard"
  },
  "cells": [
    {
      "cell_type": "markdown",
      "source": [
        "This notebook can be run on Google Colab.\n",
        "\n",
        "[![Open in Colab](https://colab.research.google.com/assets/colab-badge.svg)](https://github.com/ZKC19940412/water_ice_nep/colab-examples/example-2.ipynb)\n",
        "\n",
        "In Colab, you can enable the GPU acceleration from `Edit` > `Notebook Settings` > `Hardware accelerator` > `GPU`."
      ],
      "metadata": {
        "id": "MgRMgOjQ8Bfd"
      }
    },
    {
      "cell_type": "markdown",
      "source": [
        "# Install TDMDpy from Source ($\\sim$ 2 min)"
      ],
      "metadata": {
        "id": "XbFx4Jbe8EUT"
      }
    },
    {
      "cell_type": "code",
      "execution_count": null,
      "metadata": {
        "id": "hzjhu8p97-YN"
      },
      "outputs": [],
      "source": [
        "%%capture\n",
        "%cd /content/\n",
        "# Fetch tdmdpy repo\n",
        "! git clone https://github.com/ZKC19940412/tdmdpy.git\n",
        "\n",
        "# Install tdmdpy from source\n",
        "%cd tdmdpy\n",
        "! pip install ."
      ]
    },
    {
      "cell_type": "markdown",
      "source": [
        "# Install [GPUMD](https://github.com/brucefan1983/GPUMD) from Source ($\\sim$ 2 min)\n",
        "- More instructions can be found : https://gpumd.org/installation.html"
      ],
      "metadata": {
        "id": "X--eN4Wn8Jez"
      }
    },
    {
      "cell_type": "code",
      "source": [
        "%%capture\n",
        "%cd /content/\n",
        "! git clone https://github.com/brucefan1983/GPUMD.git\n",
        "%cd /content/GPUMD/src/\n",
        "! make -j 8\n",
        "! echo \"GPUMD installation finishes!\"\n",
        "%cd /content/"
      ],
      "metadata": {
        "id": "7vzqZmmk8Kqj"
      },
      "execution_count": null,
      "outputs": []
    },
    {
      "cell_type": "markdown",
      "source": [
        "# Clean up Workspace and Fetch Nessary Files"
      ],
      "metadata": {
        "id": "JRGcBQRr8M0D"
      }
    },
    {
      "cell_type": "code",
      "source": [
        "%cd /content/\n",
        "! git clone https://github.com/ZKC19940412/water_ice_nep.git\n",
        "! rm -r sample_data"
      ],
      "metadata": {
        "id": "NtjlDrFt8M-r"
      },
      "execution_count": null,
      "outputs": []
    },
    {
      "cell_type": "markdown",
      "source": [
        "# Fetch Experimental Reference from Remote\n",
        "- https://github.com/BingqingCheng/neural-network-potential-for-water-revPBE0-D3"
      ],
      "metadata": {
        "id": "sIswhVdLKaso"
      }
    },
    {
      "cell_type": "code",
      "source": [
        "# Fetch from github repo\n",
        "! git clone https://github.com/BingqingCheng/neural-network-potential-for-water-revPBE0-D3.git\n",
        "! mkdir experimental_rdf/\n",
        "\n",
        "# Copy experimental references to folder and clean up workspace\n",
        "! cp -r /content/neural-network-potential-for-water-revPBE0-D3/radial-distribution-functions/exp-* experimental_rdf/\n",
        "! mv experimental_rdf/exp-goo-T295.1K experimental_rdf/exp-goo-T295.1K.dat\n",
        "! rm -r neural-network-potential-for-water-revPBE0-D3/"
      ],
      "metadata": {
        "id": "jsxtSwsRKhu9"
      },
      "execution_count": null,
      "outputs": []
    },
    {
      "cell_type": "markdown",
      "source": [
        "# Import Necessary Packages"
      ],
      "metadata": {
        "id": "C3sNPJxu8OOz"
      }
    },
    {
      "cell_type": "code",
      "source": [
        "from ase.io import read, write\n",
        "import mdtraj as mdt\n",
        "import numpy as np\n",
        "from pynvml import *\n",
        "from pylab import *\n",
        "from tdmdpy.atom_manipulate import decompose_dump_xyz\n",
        "from tdmdpy.atom_manipulate import load_with_cell\n",
        "from tdmdpy.create_systems import generate_water_box\n",
        "from tdmdpy.thermodynamic_properties import compute_all_rdfs\n",
        "from tdmdpy.thermodynamic_properties import get_block_average_quantities\n",
        "from tdmdpy import vdos"
      ],
      "metadata": {
        "id": "TpEoKr_MCAZG"
      },
      "execution_count": null,
      "outputs": []
    },
    {
      "cell_type": "markdown",
      "source": [
        "# Custom Function Define"
      ],
      "metadata": {
        "id": "Cf1uQjTRCBnj"
      }
    },
    {
      "cell_type": "code",
      "source": [
        "def set_fig_properties(ax_list):\n",
        "    tl = 6\n",
        "    tw = 2\n",
        "    tlm = 4\n",
        "\n",
        "    for ax in ax_list:\n",
        "        ax.tick_params(which='major', length=tl, width=tw)\n",
        "        ax.tick_params(which='minor', length=tlm, width=tw)\n",
        "        ax.tick_params(which='both', axis='both',\n",
        "                       direction='in', right=True, top=True,\n",
        "                       left=True)\n",
        "\n",
        "\n",
        "def get_normalized_VDOS(data):\n",
        "    frequency = data[:, 0]\n",
        "    raw_intensity = data[:, 1]\n",
        "\n",
        "    integral_val = np.trapz(y=raw_intensity, x=frequency)\n",
        "    normalized_data = np.zeros_like(data)\n",
        "    normalized_data[:, 0] = frequency\n",
        "    normalized_data[:, 1] = raw_intensity / integral_val\n",
        "    return normalized_data"
      ],
      "metadata": {
        "id": "gaSz_bLyCC4U"
      },
      "execution_count": null,
      "outputs": []
    },
    {
      "cell_type": "markdown",
      "source": [
        "# Obtain Information about GPU Architecture for Particular colab Instance"
      ],
      "metadata": {
        "id": "QvwczIf9CToK"
      }
    },
    {
      "cell_type": "code",
      "source": [
        "if __name__ == \"__main__\":\n",
        "\n",
        "    # Initialize nvml object\n",
        "    nvmlInit()\n",
        "    print(\"Driver Version:\", nvmlSystemGetDriverVersion())\n",
        "    deviceCount = nvmlDeviceGetCount()\n",
        "\n",
        "    # Loop through all avaliable devices\n",
        "    for i in range(deviceCount):\n",
        "        handle = nvmlDeviceGetHandleByIndex(i)\n",
        "        print(\"Device\", i, \":\", nvmlDeviceGetName(handle))"
      ],
      "metadata": {
        "id": "9lwVUGBiCT6U"
      },
      "execution_count": null,
      "outputs": []
    },
    {
      "cell_type": "markdown",
      "source": [
        "# Perform Simulations for Run-time Profiling"
      ],
      "metadata": {
        "id": "Ris3faUDCZHU"
      }
    },
    {
      "cell_type": "markdown",
      "source": [
        "## Create Liquid Water in Cubic Box"
      ],
      "metadata": {
        "id": "jrBHFTkwCdQL"
      }
    },
    {
      "cell_type": "code",
      "source": [
        "if __name__ == \"__main__\":\n",
        "    generate_water_box(target_density = 0.994,\n",
        "                       number_of_molecules=512,\n",
        "                       is_pre_equilibrate=False)"
      ],
      "metadata": {
        "id": "Degv0KWtCbzl"
      },
      "execution_count": null,
      "outputs": []
    },
    {
      "cell_type": "markdown",
      "source": [
        "## Compose run.in"
      ],
      "metadata": {
        "id": "-NyJZq2_CgVr"
      }
    },
    {
      "cell_type": "code",
      "source": [
        "%%writefile run.in\n",
        "# NEP potential\n",
        "potential /content/water_ice_nep/nep-pre-train-model/nep.txt\n",
        "\n",
        "# time step for 1 fs\n",
        "time_step 1\n",
        "\n",
        "# Initialize velocity at 298K\n",
        "velocity 298\n",
        "\n",
        "# Run NVE\n",
        "ensemble nve\n",
        "\n",
        "# run 1000 steps, equal to 1 ps simulation\n",
        "run 1000"
      ],
      "metadata": {
        "id": "_oTdQ1y6Cgor"
      },
      "execution_count": null,
      "outputs": []
    },
    {
      "cell_type": "markdown",
      "source": [
        "## Peform Simualtions ($\\sim$ 7 s)"
      ],
      "metadata": {
        "id": "MCbSk0luCtfr"
      }
    },
    {
      "cell_type": "code",
      "source": [
        "! /content/GPUMD/src/gpumd < run.in > run_time.log\n",
        "! grep \"Time used =\"  run_time.log > grepped_run_time.out"
      ],
      "metadata": {
        "id": "tD6uEVcrCxTb"
      },
      "execution_count": null,
      "outputs": []
    },
    {
      "cell_type": "markdown",
      "source": [
        "## Compute Run-time in ns/day"
      ],
      "metadata": {
        "id": "mMxoN59-ELEt"
      }
    },
    {
      "cell_type": "code",
      "source": [
        "if __name__ == \"__main__\":\n",
        "\n",
        "    # Load run time in ps per scond\n",
        "    run_time_in_ps_per_sec = np.loadtxt('grepped_run_time.out', usecols=3) ** (-1)\n",
        "\n",
        "    # Convert run time from ps/s to ns/day\n",
        "    # 1000 ps = 1 ns\n",
        "    # 1 day = 24 hours = 86400 seconds\n",
        "    run_time_in_ns_per_day = (24.0 * 60.0 * 60.0 / 1000.0)  * run_time_in_ps_per_sec\n",
        "    print('Run Time Performance : %.2f  ns/day' % run_time_in_ns_per_day)"
      ],
      "metadata": {
        "id": "aPFM47nVC9Qy"
      },
      "execution_count": null,
      "outputs": []
    },
    {
      "cell_type": "markdown",
      "source": [
        "# Perform Simulations for RDFs and Hydrogen-vDOS"
      ],
      "metadata": {
        "id": "LLfFTKo5KOD7"
      }
    },
    {
      "cell_type": "markdown",
      "source": [
        "## Compose run.in"
      ],
      "metadata": {
        "id": "UDisl8J1KLM_"
      }
    },
    {
      "cell_type": "code",
      "source": [
        "%%writefile run.in\n",
        "# Set up NEP potential\n",
        "potential /content/water_ice_nep/nep-pre-train-model/nep.txt\n",
        "\n",
        "# time step for 0.5 fs\n",
        "time_step 0.5\n",
        "\n",
        "# Initialize velocity at 300K\n",
        "velocity 300\n",
        "\n",
        "# Run NPT equalibration with SCR method for 300K Tini and Tend,\n",
        "# and 100 for Tcoupling, 0 bar for pressures, and\n",
        "# 2 Gpa for pressure coupling and 1000 steps\n",
        "ensemble   npt_scr 300 300 100 0 0 0 2 2 2 1000\n",
        "\n",
        "# run 8000 steps, equal to 4 ps simulation\n",
        "run 8000\n",
        "\n",
        "# Run NVT prodution with BDP thermostats for 300K Tini and Tend,\n",
        "# and 100 for Tcoupling\n",
        "ensemble nvt_bdp 300 300 100\n",
        "\n",
        "\n",
        "# dump extended xyz with every steps, dump force and velocity too\n",
        "# Critcal for vDOS\n",
        "dump_exyz 1 1 1\n",
        "\n",
        "# dump themodynamic quantities every steps\n",
        "dump_thermo 1\n",
        "\n",
        "# Run 100000 steps, equal to 50 ps simulation\n",
        "run 100000"
      ],
      "metadata": {
        "id": "q-zr8c_3KUJK"
      },
      "execution_count": null,
      "outputs": []
    },
    {
      "cell_type": "markdown",
      "source": [
        "## Peform Simualtions ($\\sim$ 20 min)\n",
        "- 8000 and 100000 steps used here only serve as illustration purpose."
      ],
      "metadata": {
        "id": "rQcGwVLAMa9S"
      }
    },
    {
      "cell_type": "code",
      "source": [
        "! /content/GPUMD/src/gpumd < run.in"
      ],
      "metadata": {
        "id": "Ben9tml8Mjmy"
      },
      "execution_count": null,
      "outputs": []
    },
    {
      "cell_type": "markdown",
      "source": [
        "## Visualize T vs Time from Production Run ($\\sim$ 5 min)"
      ],
      "metadata": {
        "id": "sNYzJ0Occcfo"
      }
    },
    {
      "cell_type": "code",
      "source": [
        "if __name__ == \"__main__\":\n",
        "\n",
        "    #  Set up Figure Styles\n",
        "    aw = 2\n",
        "    fs = 22\n",
        "    font = {'size': fs}\n",
        "    matplotlib.rc('font', **font)\n",
        "    matplotlib.rc('axes', linewidth=aw)\n",
        "\n",
        "    # Truncate dump.xyz for faster runtime\n",
        "    write('dump_rdf.xyz', read('dump.xyz', index='::100'))\n",
        "    write('dump_vdos.xyz', read('dump.xyz', index=':10000'))\n",
        "\n",
        "     # Load in temperature data from thermo.out\n",
        "    data = np.loadtxt('thermo.out')\n",
        "\n",
        "    # Extract box dimension from thermo.out\n",
        "    # length scale goes from angstrom to nm\n",
        "    cell_length_matrix = data[:, -3:] / 10.0\n",
        "    cell_angle_matrix = 90 * np.ones_like(cell_length_matrix)\n",
        "\n",
        "    # Denote time step and sample rate\n",
        "    time_step = 5e-4\n",
        "    sample_rate = 1\n",
        "\n",
        "    # Derive time span\n",
        "    time_span = time_step * sample_rate * np.arange(0, len(data), 1)\n",
        "\n",
        "    # Load temperature and compute its block averages\n",
        "    temperature = data[:, 0]\n",
        "    block_average_temperature = get_block_average_quantities(temperature,\n",
        "                                                             n_block=5)\n",
        "\n",
        "    print('Inspect Properties from NVT Simulations: ')\n",
        "    print('Set point temperature: %.3f K' %np.round(\n",
        "        block_average_temperature.mean(), 3))\n",
        "    print('\\n')\n",
        "    figure()\n",
        "    set_fig_properties([gca()])\n",
        "    plot(time_span, temperature, label='T')\n",
        "    plot(time_span, np.round(\n",
        "        block_average_temperature.mean(), 3) * np.ones_like(\n",
        "        time_span), 'r--',\n",
        "         label=r'$T_{block \\ avg}$', lw=3)\n",
        "    xlabel('Time (ps)')\n",
        "    ylabel('Temperature (K)')\n",
        "    ylim([260, 340])\n",
        "    legend(loc=4, fontsize=16)\n",
        "    show()"
      ],
      "metadata": {
        "id": "-rUtwwGgdHwu"
      },
      "execution_count": null,
      "outputs": []
    },
    {
      "cell_type": "markdown",
      "source": [
        "## Compute RDFs"
      ],
      "metadata": {
        "id": "GBqox8PydeGv"
      }
    },
    {
      "cell_type": "code",
      "source": [
        "if __name__ == \"__main__\":\n",
        "\n",
        "    # Decompose dump.xyz\n",
        "    decompose_dump_xyz('dump_rdf.xyz')\n",
        "\n",
        "    # Inject Reference PDB file into the trajectory'\n",
        "    pos_trajectory = load_with_cell('pos.xyz', cell_length_matrix[::100],\n",
        "                                    cell_angle_matrix[::100],\n",
        "                                    top='ini_pos.pdb')\n",
        "\n",
        "    # Compute RDFS\n",
        "    rdfs = compute_all_rdfs(pos_trajectory, n_bins=400, is_save_rdf=False)\n",
        "\n",
        "    # Save RDFS for each pair, multiple by 10 to\n",
        "    # go from nm to angstrom for length unit.\n",
        "    np.savetxt('nep_goo_T_300K.out',\n",
        "               np.vstack([rdfs['O-O'][0][:] * 10, rdfs['O-O'][1][:]]).T)\n",
        "    np.savetxt('nep_goh_T_300K.out',\n",
        "               np.vstack([rdfs['H-O'][0][:] * 10, rdfs['H-O'][1][:]]).T)\n",
        "    np.savetxt('nep_ghh_T_300K.out',\n",
        "               np.vstack([rdfs['H-H'][0][:] * 10, rdfs['H-H'][1][:]]).T)"
      ],
      "metadata": {
        "id": "yhs_RDjGdiOe"
      },
      "execution_count": null,
      "outputs": []
    },
    {
      "cell_type": "markdown",
      "source": [
        "## Compute Hydorgen-VDOS ($\\sim$ 8 min)"
      ],
      "metadata": {
        "id": "6tANbMATfu0_"
      }
    },
    {
      "cell_type": "code",
      "source": [
        "if __name__ == \"__main__\":\n",
        "\n",
        "    # Decompose dump.xyz\n",
        "    decompose_dump_xyz('dump_vdos.xyz')\n",
        "\n",
        "    # Inject Reference PDB file into the trajectory'\n",
        "    vel_trajectory = load_with_cell('vel.xyz', cell_length_matrix[:10000],\n",
        "                                    cell_angle_matrix[:10000],\n",
        "                                    top='ini_vel.pdb')\n",
        "    # Compute VDOS\n",
        "    vdos = vdos.compute_all_vdos(vel_trajectory, dt=0.5, Dt=2000.0)\n",
        "\n",
        "    # Save VDOS for each species.\n",
        "    np.savetxt('nep_vdos_h_T_300K.out',\n",
        "               np.vstack([vdos['H'][0][:],\n",
        "                          vdos['H'][1][:]]).T)"
      ],
      "metadata": {
        "id": "wLdveUD8fx5k"
      },
      "execution_count": null,
      "outputs": []
    },
    {
      "cell_type": "markdown",
      "source": [
        "## Visualize RDFs & H-vDOS for Liquid Water"
      ],
      "metadata": {
        "id": "utZzuknTeqFA"
      }
    },
    {
      "cell_type": "code",
      "source": [
        "if __name__ == \"__main__\":\n",
        "\n",
        "\n",
        "    # Load in experimental data\n",
        "    rdf_exp_goo_T_295_pt1K = np.loadtxt(\n",
        "        'experimental_rdf/exp-goo-T295.1K.dat',skiprows=6)\n",
        "    rdf_exp_goh_T_300K = np.loadtxt(\n",
        "        'experimental_rdf/exp-goh-T300K.dat', skiprows=2)\n",
        "    rdf_exp_ghh_T_300K = np.loadtxt(\n",
        "        'experimental_rdf/exp-ghh-T300K.dat', skiprows=2)\n",
        "\n",
        "     # Load in nep rdf data\n",
        "    rdf_nep_goo_T_300K = np.loadtxt('nep_goo_T_300K.out')\n",
        "    rdf_nep_goh_T_300K = np.loadtxt('nep_goh_T_300K.out')\n",
        "    rdf_nep_ghh_T_300K = np.loadtxt('nep_ghh_T_300K.out')\n",
        "\n",
        "    vdos_data = get_normalized_VDOS(np.loadtxt('nep_vdos_h_T_300K.out'))\n",
        "\n",
        "    figure(figsize=(12, 10))\n",
        "    subplot(2, 2, 1)\n",
        "    set_fig_properties([gca()])\n",
        "    plot(rdf_exp_goo_T_295_pt1K[:, 0],\n",
        "         rdf_exp_goo_T_295_pt1K[:, 1], lw=3, ls='--',\n",
        "         c='k')\n",
        "    plot(rdf_nep_goo_T_300K[:, 0], rdf_nep_goo_T_300K[:, 1],\n",
        "         lw=2, c='r', ls='-')\n",
        "    text(0.005, 0.9, '(a)', c='k', fontsize=14,\n",
        "         transform=gca().transAxes, fontweight='bold')\n",
        "    ylabel(r'$g_{OO}(r)$', fontsize=22)\n",
        "    xlabel(r'r ($\\AA$)', fontsize=22)\n",
        "    xlim([0, 6])\n",
        "    ylim([-0.1, 3])\n",
        "    gca().set_yticks(np.linspace(0, 3, 4))\n",
        "    gca().set_xticks(np.linspace(0, 6, 7))\n",
        "\n",
        "    subplot(2, 2, 2)\n",
        "    set_fig_properties([gca()])\n",
        "    plot(rdf_exp_goh_T_300K[:, 0], rdf_exp_goh_T_300K[:, 1],\n",
        "         lw=3, ls='--', c='k')\n",
        "    plot(rdf_nep_goh_T_300K[:, 0], rdf_nep_goh_T_300K[:, 1],\n",
        "         lw=2, c='r', ls='-')\n",
        "    text(0.005, 0.9, '(b)', c='k', fontsize=14,\n",
        "         transform=gca().transAxes, fontweight='bold')\n",
        "    ylabel(r'$g_{OH}(r)$', fontsize=22)\n",
        "    xlabel(r'r ($\\AA$)', fontsize=22)\n",
        "    xlim([0, 6])\n",
        "    gca().set_yticks(np.linspace(0, 3, 4))\n",
        "    ylim([-0.1, 2.5])\n",
        "    gca().set_xticks(np.linspace(0, 6, 7))\n",
        "\n",
        "    subplot(2, 2, 3)\n",
        "    set_fig_properties([gca()])\n",
        "    plot(rdf_exp_ghh_T_300K[:, 0], rdf_exp_ghh_T_300K[:, 1],\n",
        "         lw=3, ls='--', c='k', label='Experiment')\n",
        "    plot(rdf_nep_ghh_T_300K[:, 0], rdf_nep_ghh_T_300K[:, 1],\n",
        "         lw=2, c='r', ls='-', label='NEP')\n",
        "    text(0.005, 0.9, '(c)', c='k', fontsize=14,\n",
        "         transform=gca().transAxes, fontweight='bold')\n",
        "    ylabel(r'$g_{HH}(r)$', fontsize=22)\n",
        "    xlabel(r'r ($\\AA$)', fontsize=22)\n",
        "    xlim([0, 6])\n",
        "    gca().set_yticks(np.linspace(0, 3, 4))\n",
        "    ylim([-0.1, 3.7])\n",
        "    gca().set_xticks(np.linspace(0, 6, 7))\n",
        "    legend(loc='best', frameon=False)\n",
        "\n",
        "    subplot(2, 2, 4)\n",
        "    set_fig_properties([gca()])\n",
        "    plot(vdos_data[:,0], vdos_data[:,1]/vdos_data[:,1].max(),\n",
        "         lw=2, c='r', label='NEP')\n",
        "    text(0.008, 0.9, '(d)', c='k', fontsize=14,\n",
        "         transform=gca().transAxes, fontweight='bold')\n",
        "    gca().vlines(x=615, ymax=2.5, ymin=-0.05,\n",
        "                 color='k', ls='--', lw=3)\n",
        "    gca().vlines(x=1646, ymax=2.5, ymin=-0.05,\n",
        "                 color='k', ls='--', lw=3)\n",
        "    gca().vlines(x=3406, ymax=2.5, ymin=-0.05,\n",
        "                 color='k', ls='--', lw=3)\n",
        "    gca().set_xticks(np.arange(0, 5000, 1000))\n",
        "    xlim([0, 5000])\n",
        "    xlabel(r'$\\omega$ ($cm^{-1}$)', fontsize=22)\n",
        "    ylabel('vDOS (arb.unit.)', fontsize=22)\n",
        "    gca().set_yticks(np.arange(0, 1.6, 0.4))\n",
        "    gca().set_yticklabels([])\n",
        "    ylim([-0.05, 1.6])\n",
        "    subplots_adjust(hspace=0.3, wspace=0.2)\n",
        "    savefig('structural-proper-LW-300K.png', dpi=300)\n",
        "    show()"
      ],
      "metadata": {
        "id": "W65wX1i2er64"
      },
      "execution_count": null,
      "outputs": []
    }
  ]
}