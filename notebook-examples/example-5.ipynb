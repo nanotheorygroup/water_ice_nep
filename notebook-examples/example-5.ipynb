{
  "nbformat": 4,
  "nbformat_minor": 0,
  "metadata": {
    "colab": {
      "provenance": []
    },
    "kernelspec": {
      "name": "python3",
      "display_name": "Python 3"
    },
    "language_info": {
      "name": "python"
    },
    "accelerator": "GPU",
    "gpuClass": "standard"
  },
  "cells": [
    {
      "cell_type": "markdown",
      "source": [
        "This notebook can be run on Google Colab.\n",
        "\n",
        "[![Open in Colab](https://colab.research.google.com/assets/colab-badge.svg)](https://github.com/ZKC19940412/water_ice_nep/colab-examples/example-5.ipynb)\n",
        "\n",
        "In Colab, you can enable the GPU acceleration from `Edit` > `Notebook Settings` > `Hardware accelerator` > `GPU`."
      ],
      "metadata": {
        "id": "3_0V3FNUV6Va"
      }
    },
    {
      "cell_type": "markdown",
      "source": [
        "# Install TDMDpy from Source ($\\sim$ 2 min)"
      ],
      "metadata": {
        "id": "2U3iFViPV9ky"
      }
    },
    {
      "cell_type": "code",
      "execution_count": null,
      "metadata": {
        "id": "3ZseO02HVpN3"
      },
      "outputs": [],
      "source": [
        "%%capture\n",
        "%cd /content/\n",
        "# Fetch tdmdpy repo\n",
        "! git clone https://github.com/ZKC19940412/tdmdpy.git\n",
        "\n",
        "# Install tdmdpy from source\n",
        "%cd tdmdpy\n",
        "! pip install ."
      ]
    },
    {
      "cell_type": "markdown",
      "source": [
        "# Install [GPUMD](https://github.com/brucefan1983/GPUMD) from Source ($\\sim$ 2 min)\n",
        "- More instructions can be found : https://gpumd.org/installation.html"
      ],
      "metadata": {
        "id": "1EROy_h_V_YZ"
      }
    },
    {
      "cell_type": "code",
      "source": [
        "%%capture\n",
        "%cd /content/\n",
        "! git clone https://github.com/brucefan1983/GPUMD.git\n",
        "%cd /content/GPUMD/src/\n",
        "! make -j 8\n",
        "! echo \"GPUMD installation finishes!\"\n",
        "%cd /content/"
      ],
      "metadata": {
        "id": "cqayvScXWAwy"
      },
      "execution_count": null,
      "outputs": []
    },
    {
      "cell_type": "markdown",
      "source": [
        "# Clean up Workspace and Fetch Nessary Files"
      ],
      "metadata": {
        "id": "cMVxwUTdWDvh"
      }
    },
    {
      "cell_type": "code",
      "source": [
        "%cd /content/\n",
        "! git clone https://github.com/ZKC19940412/water_ice_nep.git\n",
        "! rm -r sample_data"
      ],
      "metadata": {
        "id": "jQsED63EWEDR"
      },
      "execution_count": null,
      "outputs": []
    },
    {
      "cell_type": "markdown",
      "source": [
        "# Import Necessary Packages"
      ],
      "metadata": {
        "id": "7J3CcSjEWGrZ"
      }
    },
    {
      "cell_type": "code",
      "source": [
        "from ase.io import read\n",
        "import mdtraj as mdt\n",
        "import numpy as np\n",
        "from pynvml import *\n",
        "from pylab import *\n",
        "import scipy.constants as spc\n",
        "from tdmdpy.atom_manipulate import decompose_dump_xyz\n",
        "from tdmdpy.atom_manipulate import load_with_cell\n",
        "from tdmdpy.create_systems import generate_ice_structures\n",
        "from tdmdpy.create_systems import generate_water_box\n",
        "from tdmdpy.thermodynamic_properties import get_block_average_quantities"
      ],
      "metadata": {
        "id": "EvuqBY66WGcZ"
      },
      "execution_count": null,
      "outputs": []
    },
    {
      "cell_type": "markdown",
      "source": [
        "# Custom Function Define"
      ],
      "metadata": {
        "id": "hX3HtZ1cWIzx"
      }
    },
    {
      "cell_type": "code",
      "source": [
        "def set_fig_properties(ax_list):\n",
        "    tl = 6\n",
        "    tw = 2\n",
        "    tlm = 4\n",
        "\n",
        "    for ax in ax_list:\n",
        "        ax.tick_params(which='major', length=tl, width=tw)\n",
        "        ax.tick_params(which='minor', length=tlm, width=tw)\n",
        "        ax.tick_params(which='both', axis='both',\n",
        "                       direction='in', right=True, top=True,\n",
        "                       left=True)"
      ],
      "metadata": {
        "id": "-_4Kx0QtWKZr"
      },
      "execution_count": null,
      "outputs": []
    },
    {
      "cell_type": "markdown",
      "source": [
        "# Obtain Information about GPU Architecture for Particular colab Instance"
      ],
      "metadata": {
        "id": "A2RYgaKZWLmy"
      }
    },
    {
      "cell_type": "code",
      "source": [
        "if __name__ == \"__main__\":\n",
        "\n",
        "    # Initialize nvml object\n",
        "    nvmlInit()\n",
        "    print(\"Driver Version:\", nvmlSystemGetDriverVersion())\n",
        "    deviceCount = nvmlDeviceGetCount()\n",
        "\n",
        "    # Loop through all avaliable devices\n",
        "    for i in range(deviceCount):\n",
        "        handle = nvmlDeviceGetHandleByIndex(i)\n",
        "        print(\"Device\", i, \":\", nvmlDeviceGetName(handle))"
      ],
      "metadata": {
        "id": "BYzR3w7-WNix"
      },
      "execution_count": null,
      "outputs": []
    },
    {
      "cell_type": "markdown",
      "source": [
        "# Perform Simulation for Water"
      ],
      "metadata": {
        "id": "ycoO9AvhXUe6"
      }
    },
    {
      "cell_type": "markdown",
      "source": [
        "## Create Liquid Water"
      ],
      "metadata": {
        "id": "GSjB30pbXYzS"
      }
    },
    {
      "cell_type": "code",
      "source": [
        "if __name__ == \"__main__\":\n",
        "    generate_water_box(target_density = 0.994,\n",
        "                       number_of_molecules=512,\n",
        "                       is_pre_equilibrate=False)"
      ],
      "metadata": {
        "id": "0iyN7p8QXZG7"
      },
      "execution_count": null,
      "outputs": []
    },
    {
      "cell_type": "markdown",
      "source": [
        "## Compose run.in"
      ],
      "metadata": {
        "id": "KSLsu6SgYnM7"
      }
    },
    {
      "cell_type": "code",
      "source": [
        "%%writefile run.in\n",
        "\n",
        "# NEP potential for water\n",
        "potential /content/water_ice_nep/nep-pre-train-model/nep.txt\n",
        "\n",
        "# time step for 0.5 fs\n",
        "time_step 0.5\n",
        "minimize sd 1.0e-6 10000\n",
        "\n",
        "# Initialize velocity at 288K\n",
        "velocity 288\n",
        "\n",
        "# Run NPT equalibration with SCR method for 288K Tini and Tend, and 100 for Tcoupling, 0 bar for pressures, and 2 Gpa for pressure coupling and 1000 steps\n",
        "ensemble  npt_scr 288 288 100 0 0 0 2 2 2 1000\n",
        "\n",
        "# run 8000 steps, equal to 4 ps simulation\n",
        "run 8000\n",
        "\n",
        "# Run NVT production with BDP thermo-stat for 288K Tini and Tend, and 100 for Tcoupling\n",
        "ensemble nvt_bdp 288 288 100\n",
        "\n",
        "# dump extended xyz with every 100 steps, dump force and velocity too\n",
        "dump_exyz 100 1 1\n",
        "\n",
        "# dump themodynamic quantities every 100 steps\n",
        "dump_thermo 100\n",
        "\n",
        "# Run 100000 steps, equal to 50 ps simulation\n",
        "run 100000"
      ],
      "metadata": {
        "id": "qN3CgwjqYovK"
      },
      "execution_count": null,
      "outputs": []
    },
    {
      "cell_type": "markdown",
      "source": [
        "## Peform Simualtions ($\\sim$ 15 min)\n",
        "- 8000 and 100000 steps used here only serve as illustration purpose."
      ],
      "metadata": {
        "id": "tkfOnktWcZ8z"
      }
    },
    {
      "cell_type": "code",
      "source": [
        "! /content/GPUMD/src/gpumd < run.in\n",
        "! mv dump.xyz dump_water.xyz\n",
        "! mv thermo.out thermo_water.out"
      ],
      "metadata": {
        "id": "9dh-XtF1caL8"
      },
      "execution_count": null,
      "outputs": []
    },
    {
      "cell_type": "markdown",
      "source": [
        "# Perform Simulations for Ih Ice"
      ],
      "metadata": {
        "id": "1R8mDou5gWgk"
      }
    },
    {
      "cell_type": "markdown",
      "source": [
        "## Create Hexagonal Ice (ih) System"
      ],
      "metadata": {
        "id": "rnml7EiRhEmD"
      }
    },
    {
      "cell_type": "code",
      "source": [
        "if __name__ == \"__main__\":\n",
        "    generate_ice_structures(type_str='Ih', number_of_total_replica=27)"
      ],
      "metadata": {
        "id": "IT5vP_URdrHE"
      },
      "execution_count": null,
      "outputs": []
    },
    {
      "cell_type": "markdown",
      "source": [
        "## Peform Simualtions ($\\sim$ 15 min)\n",
        "- 8000 and 100000 steps used here only serve as illustration purpose."
      ],
      "metadata": {
        "id": "NDC0qsifhO-R"
      }
    },
    {
      "cell_type": "code",
      "source": [
        "! /content/GPUMD/src/gpumd < run.in\n",
        "! mv dump.xyz dump_ice.xyz\n",
        "! mv thermo.out thermo_ice.out"
      ],
      "metadata": {
        "id": "MJC3sL8QhQrr"
      },
      "execution_count": null,
      "outputs": []
    },
    {
      "cell_type": "markdown",
      "source": [
        "## Visualize T vs Time from Production Run"
      ],
      "metadata": {
        "id": "V312cPJruB5O"
      }
    },
    {
      "cell_type": "code",
      "source": [
        "if __name__ == \"__main__\":\n",
        "\n",
        "    #  Set up Figure Styles\n",
        "    aw = 2\n",
        "    fs = 22\n",
        "    font = {'size': fs}\n",
        "    matplotlib.rc('font', **font)\n",
        "    matplotlib.rc('axes', linewidth=aw)\n",
        "\n",
        "     # Declare data path\n",
        "    water_run_data_path = 'thermo_water.out'\n",
        "    ice_run_data_path = 'thermo_ice.out'\n",
        "\n",
        "    # Load in data\n",
        "    water_run_data = np.loadtxt(water_run_data_path)\n",
        "    ice_run_data = np.loadtxt(ice_run_data_path)\n",
        "\n",
        "    # Denote time step and sample rate\n",
        "    time_step = 5e-4\n",
        "    sample_rate = 100\n",
        "\n",
        "    # Derive time span\n",
        "    time_span = time_step * sample_rate * np.arange(0, len(water_run_data), 1)\n",
        "\n",
        "    # Load temperature and compute its block averages\n",
        "    temperature_water = water_run_data[:, 0]\n",
        "    temperature_ice = ice_run_data[:, 0]\n",
        "    block_average_temperature_water = get_block_average_quantities(temperature_water,\n",
        "                                                             n_block=5)\n",
        "    block_average_temperature_ice = get_block_average_quantities(temperature_ice,\n",
        "                                                             n_block=5)\n",
        "\n",
        "    print('Inspect Properties from NVT Simulations: ')\n",
        "    print('\\n')\n",
        "    figure(figsize=(8, 6))\n",
        "    set_fig_properties([gca()])\n",
        "    plot(time_span,temperature_water, label='$T_{water}$')\n",
        "    plot(time_span, np.round(\n",
        "        block_average_temperature_water.mean(), 3) * np.ones_like(\n",
        "        time_span), 'r--',\n",
        "         label=r'$T_{water \\ block \\ avg}$', lw=3)\n",
        "    xlabel('Time (ps)')\n",
        "    ylabel('$T_{water}$ (K)')\n",
        "    ylim([260, 320])\n",
        "    legend(loc=4, fontsize=16)\n",
        "    show()\n",
        "\n",
        "    print('\\n')\n",
        "\n",
        "    figure(figsize=(8, 6))\n",
        "    set_fig_properties([gca()])\n",
        "    plot(time_span,temperature_water, label='$T_{ice}$')\n",
        "    plot(time_span, np.round(\n",
        "        block_average_temperature_water.mean(), 3) * np.ones_like(\n",
        "        time_span), 'r--',  label=r'$T_{ice \\ block \\ avg}$', lw=3)\n",
        "    xlabel('Time (ps)')\n",
        "    ylabel('$T_{ice}$ (K)')\n",
        "    ylim([260, 320])\n",
        "    legend(loc=4, fontsize=16)\n",
        "    show()"
      ],
      "metadata": {
        "id": "oDQEmxwPuaAx"
      },
      "execution_count": null,
      "outputs": []
    },
    {
      "cell_type": "markdown",
      "source": [
        "# Compute $\\Delta H_{melt}$"
      ],
      "metadata": {
        "id": "VvRZxTUs0fHv"
      }
    },
    {
      "cell_type": "code",
      "source": [
        "if __name__ == \"__main__\":\n",
        "\n",
        "    # Denote unit conversion factor\n",
        "    unit_conversion_factor_eV_to_kcal_per_mole = spc.eV * spc.value('Avogadro constant') / spc.kilo / spc.calorie\n",
        "    unit_conversion_factor_kJ_to_kcal_per_mole = spc.value('Avogadro constant') /spc.kilo /spc.calorie\n",
        "\n",
        "    # Denote number of molecules in two run\n",
        "    number_of_molecules_water_run = len(read('dump_water.xyz', index='0')) / 3\n",
        "    number_of_molecules_ice_run = len(read('dump_ice.xyz', index = '0')) / 3\n",
        "\n",
        "\n",
        "    # Extract total energy in two phase\n",
        "    per_atom_energy_water_in_kcal_per_mole_arr = unit_conversion_factor_eV_to_kcal_per_mole * np.sum(\n",
        "       water_run_data[:, 1:3], axis=1)/number_of_molecules_water_run\n",
        "    per_atom_energy_ice_in_kcal_per_mole_arr = unit_conversion_factor_eV_to_kcal_per_mole * np.sum(\n",
        "        ice_run_data[:, 1:3], axis=1)/number_of_molecules_ice_run\n",
        "\n",
        "    # Extract volume in two phases\n",
        "    per_atom_volume_water_in_meter_cubic = (spc.angstrom **3) * np.prod(\n",
        "        water_run_data[:, 9:12], axis=1)/number_of_molecules_water_run\n",
        "    per_atom_volume_ice_in_meter_cubic = (spc.angstrom **3) * np.prod(\n",
        "         ice_run_data[:, 9:12], axis=1)/number_of_molecules_ice_run\n",
        "\n",
        "    # Extract pressure in two phases\n",
        "    pressure_water_in_pa = spc.giga * np.sum(water_run_data[:, 3:9], axis=1)\n",
        "    pressure_ice_in_pa = spc.giga * np.sum(ice_run_data[:, 3:9], axis=1)\n",
        "\n",
        "    # Constrcut PV contributions\n",
        "    per_atom_pv_water_in_kcal_per_mole_arr = unit_conversion_factor_kJ_to_kcal_per_mole * pressure_water_in_pa * per_atom_volume_water_in_meter_cubic\n",
        "    per_atom_pv_ice_in_kcal_per_mole_arr = unit_conversion_factor_kJ_to_kcal_per_mole * pressure_ice_in_pa * per_atom_volume_ice_in_meter_cubic\n",
        "\n",
        "    # Extract average quantities\n",
        "    per_atom_energy_water_in_kcal_per_mole = get_block_average_quantities(per_atom_energy_water_in_kcal_per_mole_arr, n_block=5)\n",
        "    per_atom_energy_ice_in_kcal_per_mole = get_block_average_quantities(per_atom_energy_ice_in_kcal_per_mole_arr, n_block=5)\n",
        "    per_atom_pv_water_in_kcal_per_mole = get_block_average_quantities(per_atom_pv_water_in_kcal_per_mole_arr, n_block=5)\n",
        "    per_atom_pv_ice_in_kcal_per_mole = get_block_average_quantities(per_atom_pv_ice_in_kcal_per_mole_arr, n_block=5)\n",
        "\n",
        "    # Sum over terms for deltaHmelt\n",
        "    deltaHmelt = (per_atom_energy_water_in_kcal_per_mole - per_atom_energy_ice_in_kcal_per_mole) + (per_atom_pv_water_in_kcal_per_mole - per_atom_pv_ice_in_kcal_per_mole)\n",
        "\n",
        "    print('\\n')\n",
        "    print('U_liquid : %.3f kcal/mol' % per_atom_energy_water_in_kcal_per_mole.mean())\n",
        "    print('U_solid: %.3f kcal/mol' % per_atom_energy_ice_in_kcal_per_mole.mean())\n",
        "    print('pv_liquid: %.3f kcal/mol' %  per_atom_pv_water_in_kcal_per_mole.mean())\n",
        "    print('pv_solid: %.3f kcal/mol' %  per_atom_pv_ice_in_kcal_per_mole.mean())\n",
        "    print('Delta Hmelt from NEP: %.2f kcal/mol' % deltaHmelt.mean())\n",
        "\n",
        "    # Convert unit back to meV/H2O\n",
        "    deltaHmelt = deltaHmelt.copy() * spc.kilo /23.06\n",
        "    print('deltaH_melt: %.1f ± %.1f meV/H2O' %(deltaHmelt.mean(),(deltaHmelt.std()/len(deltaHmelt))))\n"
      ],
      "metadata": {
        "id": "pXq9cRewk2Kw"
      },
      "execution_count": null,
      "outputs": []
    }
  ]
}