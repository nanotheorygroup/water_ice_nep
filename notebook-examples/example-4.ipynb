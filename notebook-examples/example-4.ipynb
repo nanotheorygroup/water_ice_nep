{
  "nbformat": 4,
  "nbformat_minor": 0,
  "metadata": {
    "colab": {
      "provenance": [],
      "gpuClass": "premium"
    },
    "kernelspec": {
      "name": "python3",
      "display_name": "Python 3"
    },
    "language_info": {
      "name": "python"
    },
    "accelerator": "GPU",
    "gpuClass": "premium"
  },
  "cells": [
    {
      "cell_type": "markdown",
      "source": [
        "This notebook can be run on Google Colab.\n",
        "\n",
        "[![Open in Colab](https://colab.research.google.com/assets/colab-badge.svg)](https://github.com/ZKC19940412/water_ice_nep/colab-examples/example-4.ipynb)\n",
        "\n",
        "In Colab, you can enable the GPU acceleration from `Edit` > `Notebook Settings` > `Hardware accelerator` > `GPU`."
      ],
      "metadata": {
        "id": "OlMPuDrDikVV"
      }
    },
    {
      "cell_type": "markdown",
      "source": [
        "# Install TDMDpy from Source ($\\sim$ 2 min)"
      ],
      "metadata": {
        "id": "aKiuRDJHinSr"
      }
    },
    {
      "cell_type": "code",
      "execution_count": null,
      "metadata": {
        "id": "fDXybnHsiNLB"
      },
      "outputs": [],
      "source": [
        "%%capture\n",
        "%cd /content/\n",
        "# Fetch tdmdpy repo\n",
        "! git clone https://github.com/ZKC19940412/tdmdpy.git\n",
        "\n",
        "# Install tdmdpy from source\n",
        "%cd tdmdpy\n",
        "! pip install ."
      ]
    },
    {
      "cell_type": "markdown",
      "source": [
        "# Install [GPUMD](https://github.com/brucefan1983/GPUMD) from Source ($\\sim$ 2 min)\n",
        "- More instructions can be found : https://gpumd.org/installation.html"
      ],
      "metadata": {
        "id": "zYtZZXS6isSE"
      }
    },
    {
      "cell_type": "code",
      "source": [
        "%%capture\n",
        "%cd /content/\n",
        "! git clone https://github.com/brucefan1983/GPUMD.git\n",
        "%cd /content/GPUMD/src/\n",
        "! make -j 8\n",
        "! echo \"GPUMD installation finishes!\"\n",
        "%cd /content/"
      ],
      "metadata": {
        "id": "_d_kTnfKiseE"
      },
      "execution_count": null,
      "outputs": []
    },
    {
      "cell_type": "markdown",
      "source": [
        "# Clean up Workspace and Fetch Nessary Files"
      ],
      "metadata": {
        "id": "9o-ntreKivit"
      }
    },
    {
      "cell_type": "code",
      "source": [
        "%cd /content/\n",
        "! git clone https://github.com/ZKC19940412/water_ice_nep.git\n",
        "! rm -r sample_data"
      ],
      "metadata": {
        "id": "i5IZUa2oiv2M"
      },
      "execution_count": null,
      "outputs": []
    },
    {
      "cell_type": "markdown",
      "source": [
        "# Import Necessary Packages"
      ],
      "metadata": {
        "id": "eQvNU0Bciydc"
      }
    },
    {
      "cell_type": "code",
      "source": [
        "import mdtraj as mdt\n",
        "import numpy as np\n",
        "from pynvml import *\n",
        "from pylab import *\n",
        "import scipy.constants as spc\n",
        "from tdmdpy.atom_manipulate import decompose_dump_xyz\n",
        "from tdmdpy.atom_manipulate import load_with_cell\n",
        "from tdmdpy.create_systems import generate_water_box\n",
        "from tdmdpy.scorer import score_property\n",
        "from tdmdpy.thermodynamic_properties import get_block_average_quantities"
      ],
      "metadata": {
        "id": "lwaWbMfRi48E"
      },
      "execution_count": null,
      "outputs": []
    },
    {
      "cell_type": "markdown",
      "source": [
        "# Custom Function Define"
      ],
      "metadata": {
        "id": "hwL-0lUYjtWl"
      }
    },
    {
      "cell_type": "code",
      "source": [
        "def set_fig_properties(ax_list):\n",
        "    tl = 6\n",
        "    tw = 2\n",
        "    tlm = 4\n",
        "\n",
        "    for ax in ax_list:\n",
        "        ax.tick_params(which='major', length=tl, width=tw)\n",
        "        ax.tick_params(which='minor', length=tlm, width=tw)\n",
        "        ax.tick_params(which='both', axis='both',\n",
        "                       direction='in', right=True, top=True,\n",
        "                       left=True)"
      ],
      "metadata": {
        "id": "-ersI_RhjtgM"
      },
      "execution_count": null,
      "outputs": []
    },
    {
      "cell_type": "markdown",
      "source": [
        "# Obtain Information about GPU Architecture for Particular colab Instance"
      ],
      "metadata": {
        "id": "zeCawt_ajwKf"
      }
    },
    {
      "cell_type": "code",
      "source": [
        "if __name__ == \"__main__\":\n",
        "\n",
        "    # Initialize nvml object\n",
        "    nvmlInit()\n",
        "    print(\"Driver Version:\", nvmlSystemGetDriverVersion())\n",
        "    deviceCount = nvmlDeviceGetCount()\n",
        "\n",
        "    # Loop through all avaliable devices\n",
        "    for i in range(deviceCount):\n",
        "        handle = nvmlDeviceGetHandleByIndex(i)\n",
        "        print(\"Device\", i, \":\", nvmlDeviceGetName(handle))"
      ],
      "metadata": {
        "id": "XKHFCh3wjwWM"
      },
      "execution_count": null,
      "outputs": []
    },
    {
      "cell_type": "markdown",
      "source": [
        "# Perform Simulations to Compute  Isothermal Compressibility ($\\kappa_{T}$)"
      ],
      "metadata": {
        "id": "WBktlVk3jzf0"
      }
    },
    {
      "cell_type": "markdown",
      "source": [
        "## Create Liquid Water in Cubic Box"
      ],
      "metadata": {
        "id": "-Q0laS9mj9rm"
      }
    },
    {
      "cell_type": "code",
      "source": [
        "if __name__ == \"__main__\":\n",
        "    generate_water_box(target_density = 0.994,\n",
        "                       number_of_molecules=512,\n",
        "                       is_pre_equilibrate=False)"
      ],
      "metadata": {
        "id": "UVUSSeCsj7m8"
      },
      "execution_count": null,
      "outputs": []
    },
    {
      "cell_type": "markdown",
      "source": [
        "## Compose run.in"
      ],
      "metadata": {
        "id": "2dxJKgJ2kvuc"
      }
    },
    {
      "cell_type": "code",
      "source": [
        "%%writefile run.in\n",
        "# NEP potential\n",
        "potential /content/water_ice_nep/nep-pre-train-model/nep.txt\n",
        "\n",
        "# time step for 0.5 fs\n",
        "time_step 0.5\n",
        "\n",
        "# Initialize velocity at 298K\n",
        "velocity 298\n",
        "\n",
        "# Run NPT equilibration with SCR method for 2598K Tini and Tend,\n",
        "# and 100 for Tcoupling,  1.01325 bar for pressures, and\n",
        "# 2 Gpa for pressure coupling and 1000 steps\n",
        "ensemble npt_scr 298 298 100 0.000101325 2 1000\n",
        "\n",
        "# run 8000 steps, equal to 4 ps simulation\n",
        "run 8000\n",
        "\n",
        "# Run NPT production with SCR method for 2598K Tini and Tend,\n",
        "# and 100 for Tcoupling,  1.01325 bar for pressures, and\n",
        "# 2 Gpa for pressure coupling and 1000 steps\n",
        "ensemble npt_scr 298 298 100 0.000101325 2 1000\n",
        "\n",
        "# dump extended xyz with every 100 steps, dump force and velocity too\n",
        "dump_exyz 100 1 1\n",
        "\n",
        "# dump themodynamic quantities every 100 steps\n",
        "dump_thermo 100\n",
        "\n",
        "# Run 100000 steps, equal to 50 ps simulation\n",
        "run 100000"
      ],
      "metadata": {
        "id": "jJNBbix-k0fe"
      },
      "execution_count": null,
      "outputs": []
    },
    {
      "cell_type": "markdown",
      "source": [
        "## Peform Simualtions ($\\sim$ 15 min)\n",
        "- 8000 and 100000 steps used here only serve as illustration purpose."
      ],
      "metadata": {
        "id": "OUfkH1dglR4F"
      }
    },
    {
      "cell_type": "code",
      "source": [
        "! /content/GPUMD/src/gpumd < run.in"
      ],
      "metadata": {
        "id": "jVVUn__vlSHU"
      },
      "execution_count": null,
      "outputs": []
    },
    {
      "cell_type": "markdown",
      "source": [
        "## Compute Mass Density ($\\rho$)"
      ],
      "metadata": {
        "id": "kfR5h5o_liS0"
      }
    },
    {
      "cell_type": "code",
      "source": [
        "if __name__ == \"__main__\":\n",
        "\n",
        "    # Load in temperature data from thermo.out\n",
        "    data = np.loadtxt('thermo.out')\n",
        "\n",
        "    # Extract box dimension from thermo.out\n",
        "    # length scale goes from angstrom to nm\n",
        "    cell_length_matrix = data[:, -3:] / 10.0\n",
        "    cell_angle_matrix = 90 * np.ones_like(cell_length_matrix)\n",
        "\n",
        "    # Decompose dump.xyz\n",
        "    decompose_dump_xyz('dump.xyz')\n",
        "\n",
        "    # Inject Reference PDB file into the trajectory'\n",
        "    pos_trajectory = load_with_cell('pos.xyz', cell_length_matrix,\n",
        "                                    cell_angle_matrix,\n",
        "                                    top='ini_pos.pdb')\n",
        "\n",
        "    # Compute mass density\n",
        "    mass_density = mdt.density(pos_trajectory)\n",
        "    mass_density_in_block = get_block_average_quantities(mass_density,n_block=5)\n",
        "    block_average_mass_density =  mass_density_in_block.mean()/1000.0"
      ],
      "metadata": {
        "id": "NB4_qmcwlipE"
      },
      "execution_count": null,
      "outputs": []
    },
    {
      "cell_type": "markdown",
      "source": [
        "## Visualize $\\rho$ and T vs Time from Production Run"
      ],
      "metadata": {
        "id": "XhUkfBt1lff8"
      }
    },
    {
      "cell_type": "code",
      "source": [
        "if __name__ == \"__main__\":\n",
        "\n",
        "    #  Set up Figure Styles\n",
        "    aw = 2\n",
        "    fs = 22\n",
        "    font = {'size': fs}\n",
        "    matplotlib.rc('font', **font)\n",
        "    matplotlib.rc('axes', linewidth=aw)\n",
        "\n",
        "    # Denote time step and sample rate\n",
        "    time_step = 5e-4\n",
        "    sample_rate = 100\n",
        "\n",
        "    # Derive time span\n",
        "    time_span = time_step * sample_rate * np.arange(0, len(data), 1)\n",
        "\n",
        "    # Load temperature and compute its block averages\n",
        "    temperature = data[:, 0]\n",
        "    block_average_temperature = get_block_average_quantities(temperature,\n",
        "                                                             n_block=5)\n",
        "\n",
        "    print('Inspect Properties from NPT Simulations: ')\n",
        "    print('\\n')\n",
        "    figure(figsize=(8, 6))\n",
        "    set_fig_properties([gca()])\n",
        "    plot(time_span, temperature, label='T')\n",
        "    plot(time_span, np.round(\n",
        "        block_average_temperature.mean(), 3) * np.ones_like(\n",
        "        time_span), 'r--',\n",
        "         label=r'$T_{block \\ avg}$', lw=3)\n",
        "    xlabel('Time (ps)')\n",
        "    ylabel('Temperature (K)')\n",
        "    ylim([260, 320])\n",
        "    legend(loc=4, fontsize=16)\n",
        "    show()\n",
        "\n",
        "    print('\\n')\n",
        "    figure(figsize=(8, 6))\n",
        "    set_fig_properties([gca()])\n",
        "    plot(time_span, mass_density/1000.0, label=r'$\\rho$')\n",
        "    plot(time_span,\n",
        "         np.round(block_average_mass_density,3) *\n",
        "         np.ones_like(time_span), 'r--',\n",
        "         label=r'$\\rho_{block \\ avg}$', lw=3)\n",
        "    xlabel('Time (ps)')\n",
        "    ylabel(r'$\\rho \\ (g/cm^{3})$')\n",
        "    ylim([0.96, 1.05])\n",
        "    legend(loc=4, fontsize=16)\n",
        "    show()"
      ],
      "metadata": {
        "id": "gjft2SPWlfwb"
      },
      "execution_count": null,
      "outputs": []
    },
    {
      "cell_type": "markdown",
      "source": [
        "# Compute isothermal compressibility ($\\kappa_{T}$)\n",
        " - $\\kappa_{T} = \\frac{<\\sigma_{V}^{2}>}{<V> k_{B}T} = \\frac{<V^{2}> -<V>^{2}}{<V> k_{B}T}$\n",
        " - Epxerimental reference : 45.3 Mbar$^{-1}$"
      ],
      "metadata": {
        "id": "Eai1LPteufDU"
      }
    },
    {
      "cell_type": "code",
      "source": [
        "if __name__ == \"__main__\":\n",
        "\n",
        "    # Load in temperature data from thermo.out\n",
        "    data = np.loadtxt('thermo.out')\n",
        "\n",
        "    # Denote number of blokcs\n",
        "    n_blocks = 5\n",
        "\n",
        "    # Extract box lengths in angstrom\n",
        "    Lx = np.split(data[:, -3],n_blocks)\n",
        "    Ly = np.split(data[:, -2], n_blocks)\n",
        "    Lz = np.split(data[:,-1], n_blocks)\n",
        "\n",
        "    # Preset empty zero arrays\n",
        "    cov_V_block_averages = np.zeros([n_blocks])\n",
        "    V_mean_block_averages = np.zeros([n_blocks])\n",
        "\n",
        "    # Compute quantities for each block\n",
        "    for i in range(n_blocks):\n",
        "        V = (Lx[i] * Ly[i] * Lz[i]) * (spc.angstrom ** 3)\n",
        "        V_mean_block_averages[i] = np.mean(V)\n",
        "        cov_V_block_averages [i] = np.cov(V)\n",
        "\n",
        "    T = get_block_average_quantities(data[:, 0], n_block=n_blocks)\n",
        "    kBT = spc.value('Boltzmann constant') * T\n",
        "    kappa_T = spc.giga * spc.hecto * cov_V_block_averages/(\n",
        "        V_mean_block_averages * kBT)\n",
        "    print('kappa_T: %.1f ± %.1f Mbar^-1' %(kappa_T.mean(),(kappa_T.std()/len(kappa_T) )))"
      ],
      "metadata": {
        "id": "ddgeUi6Wuos3"
      },
      "execution_count": null,
      "outputs": []
    }
  ]
}