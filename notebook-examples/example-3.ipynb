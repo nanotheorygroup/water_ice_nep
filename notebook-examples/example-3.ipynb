{
  "cells": [
    {
      "cell_type": "markdown",
      "metadata": {
        "id": "-O7IZv4yby80"
      },
      "source": [
        "This notebook can be run on Google Colab.\n",
        "\n",
        "[![Open in Colab](https://colab.research.google.com/assets/colab-badge.svg)](https://github.com/ZKC19940412/water_ice_nep/colab-examples/example-3.ipynb)\n",
        "\n",
        "In Colab, you can enable the GPU acceleration from `Edit` > `Notebook Settings` > `Hardware accelerator` > `GPU`."
      ]
    },
    {
      "cell_type": "markdown",
      "metadata": {
        "id": "NmXS6U-3b31V"
      },
      "source": [
        "# Install TDMDpy from Source ($\\sim$ 2 min)"
      ]
    },
    {
      "cell_type": "code",
      "execution_count": null,
      "metadata": {
        "id": "mMS_PkUSbqCB"
      },
      "outputs": [],
      "source": [
        "%%capture\n",
        "%cd /content/\n",
        "# Fetch tdmdpy repo\n",
        "! git clone https://github.com/ZKC19940412/tdmdpy.git\n",
        "\n",
        "# Install tdmdpy from source\n",
        "%cd tdmdpy\n",
        "! pip install ."
      ]
    },
    {
      "cell_type": "markdown",
      "metadata": {
        "id": "Qyr9f38Qb6pK"
      },
      "source": [
        "# Install [GPUMD](https://github.com/brucefan1983/GPUMD) from Source ($\\sim$ 2 min)\n",
        "- More instructions can be found : https://gpumd.org/installation.html"
      ]
    },
    {
      "cell_type": "code",
      "execution_count": null,
      "metadata": {
        "id": "wOK8gq4Ob7CL"
      },
      "outputs": [],
      "source": [
        "%%capture\n",
        "%cd /content/\n",
        "! git clone https://github.com/brucefan1983/GPUMD.git\n",
        "%cd /content/GPUMD/src/\n",
        "! make -j 8\n",
        "! echo \"GPUMD installation finishes!\"\n",
        "%cd /content/"
      ]
    },
    {
      "cell_type": "markdown",
      "metadata": {
        "id": "DBlUjKyVb8hr"
      },
      "source": [
        "# Clean up Workspace and Fetch Nessary Files"
      ]
    },
    {
      "cell_type": "code",
      "execution_count": null,
      "metadata": {
        "id": "1qinyiQNb95V"
      },
      "outputs": [],
      "source": [
        "%cd /content/\n",
        "! git clone https://github.com/ZKC19940412/water_ice_nep.git\n",
        "! rm -r sample_data"
      ]
    },
    {
      "cell_type": "markdown",
      "metadata": {
        "id": "hQZzuZQQcDrM"
      },
      "source": [
        "# Import Necessary Packages"
      ]
    },
    {
      "cell_type": "code",
      "execution_count": null,
      "metadata": {
        "id": "0i4mVdK_cD4V"
      },
      "outputs": [],
      "source": [
        "import mdtraj as mdt\n",
        "import numpy as np\n",
        "from pynvml import *\n",
        "from pylab import *\n",
        "from tdmdpy.atom_manipulate import decompose_dump_xyz\n",
        "from tdmdpy.atom_manipulate import load_with_cell\n",
        "from tdmdpy.create_systems import generate_ice_structures\n",
        "from tdmdpy.thermodynamic_properties import get_block_average_quantities"
      ]
    },
    {
      "cell_type": "markdown",
      "metadata": {
        "id": "a4-iMDyccE99"
      },
      "source": [
        "# Custom Function Define"
      ]
    },
    {
      "cell_type": "code",
      "execution_count": null,
      "metadata": {
        "id": "1HXHNSx7cGRc"
      },
      "outputs": [],
      "source": [
        "def set_fig_properties(ax_list):\n",
        "    tl = 6\n",
        "    tw = 2\n",
        "    tlm = 4\n",
        "\n",
        "    for ax in ax_list:\n",
        "        ax.tick_params(which='major', length=tl, width=tw)\n",
        "        ax.tick_params(which='minor', length=tlm, width=tw)\n",
        "        ax.tick_params(which='both', axis='both',\n",
        "                       direction='in', right=True, top=True,\n",
        "                       left=True)"
      ]
    },
    {
      "cell_type": "markdown",
      "metadata": {
        "id": "GOMH8asJcIx1"
      },
      "source": [
        "# Obtain Information about GPU Architecture for Particular colab Instance"
      ]
    },
    {
      "cell_type": "code",
      "execution_count": null,
      "metadata": {
        "id": "yhC_HL-0cJst"
      },
      "outputs": [],
      "source": [
        "if __name__ == \"__main__\":\n",
        "\n",
        "    # Initialize nvml object\n",
        "    nvmlInit()\n",
        "    print(\"Driver Version:\", nvmlSystemGetDriverVersion())\n",
        "    deviceCount = nvmlDeviceGetCount()\n",
        "\n",
        "    # Loop through all avaliable devices\n",
        "    for i in range(deviceCount):\n",
        "        handle = nvmlDeviceGetHandleByIndex(i)\n",
        "        print(\"Device\", i, \":\", nvmlDeviceGetName(handle))"
      ]
    },
    {
      "cell_type": "markdown",
      "metadata": {
        "id": "HAAH3Zo7rYjP"
      },
      "source": [
        "# Perform Simulations to Compute  Orthobaric Densities ($\\rho$):"
      ]
    },
    {
      "cell_type": "markdown",
      "metadata": {
        "id": "5YCq3nXcd-Ts"
      },
      "source": [
        "## Create Hexagonal Ice (ih) System"
      ]
    },
    {
      "cell_type": "code",
      "execution_count": null,
      "metadata": {
        "id": "uLoJW8wMeCYL"
      },
      "outputs": [],
      "source": [
        "if __name__ == \"__main__\":\n",
        "    generate_ice_structures(type_str='Ih', number_of_total_replica=27)"
      ]
    },
    {
      "cell_type": "markdown",
      "metadata": {
        "id": "2F34oiFbrham"
      },
      "source": [
        "## Compose run.in"
      ]
    },
    {
      "cell_type": "code",
      "execution_count": null,
      "metadata": {
        "id": "FGvUgTwtrivk"
      },
      "outputs": [],
      "source": [
        "%%writefile run.in\n",
        "# NEP potential\n",
        "potential /content/water_ice_nep/nep-pre-train-model/nep.txt\n",
        "\n",
        "# time step for 0.5 fs\n",
        "time_step 0.5\n",
        "\n",
        "# Initialize velocity at 250K\n",
        "velocity 250\n",
        "\n",
        "# Run NPT production with SCR method for 250K Tini and Tend,\n",
        "# and 100 for Tcoupling,  1 bar for pressures, and\n",
        "# 2 Gpa for pressure coupling and 1000 steps\n",
        "ensemble npt_scr 250 250 100 0.0001 0.0001 0.0001 2 2 2 1000\n",
        "\n",
        "# run 8000 steps, equal to 4 ps simulation\n",
        "run 8000\n",
        "\n",
        "# Run NPT production with SCR method for 250K Tini and Tend,\n",
        "# and 100 for Tcoupling,  1.01325 bar for pressures, and\n",
        "# 2 Gpa for pressure coupling and 1000 steps\n",
        "ensemble npt_scr 250 250 100 0.0001 0.0001 0.0001 2 2 2 1000\n",
        "\n",
        "# dump extended xyz with every 100 steps, dump force and velocity too\n",
        "dump_exyz 100 1 1\n",
        "\n",
        "# dump themodynamic quantities every 100 steps\n",
        "dump_thermo 100\n",
        "\n",
        "# Run 100000 steps, equal to 50 ps simulation\n",
        "run 100000"
      ]
    },
    {
      "cell_type": "markdown",
      "metadata": {
        "id": "W29nYcafsF0G"
      },
      "source": [
        "## Peform Simualtions ($\\sim$ 12 min)\n",
        "- 8000 and 100000 steps used here only serve as illustration purpose."
      ]
    },
    {
      "cell_type": "code",
      "execution_count": null,
      "metadata": {
        "id": "StmSj1iSsHHV"
      },
      "outputs": [],
      "source": [
        "! /content/GPUMD/src/gpumd < run.in"
      ]
    },
    {
      "cell_type": "markdown",
      "metadata": {
        "id": "LJv-9pw00Gr_"
      },
      "source": [
        "## Compute Mass Density ($\\rho$)"
      ]
    },
    {
      "cell_type": "code",
      "execution_count": null,
      "metadata": {
        "id": "EZWDF2X5tiZJ"
      },
      "outputs": [],
      "source": [
        "if __name__ == \"__main__\":\n",
        "\n",
        "    # Load in temperature data from thermo.out\n",
        "    data = np.loadtxt('thermo.out')\n",
        "\n",
        "    # Extract box dimension from thermo.out\n",
        "    # length scale goes from angstrom to nm\n",
        "    cell_length_matrix = data[:, -3:] / 10.0\n",
        "    cell_angle_matrix = 90 * np.ones_like(cell_length_matrix)\n",
        "\n",
        "    # Decompose dump.xyz\n",
        "    decompose_dump_xyz('dump.xyz')\n",
        "\n",
        "    # Inject Reference PDB file into the trajectory'\n",
        "    pos_trajectory = load_with_cell('pos.xyz', cell_length_matrix,\n",
        "                                    cell_angle_matrix,\n",
        "                                    top='ini_pos.pdb')\n",
        "\n",
        "    # Compute mass density\n",
        "    mass_density = mdt.density(pos_trajectory)\n",
        "    mass_density_in_block = get_block_average_quantities(mass_density,n_block=5)\n",
        "    block_average_mass_density =  mass_density_in_block.mean()/1000.0\n",
        "    std_block_average_mass_density = np.std(mass_density_in_block)/1000.0\n",
        "    print('rho: %.3f ± %.5f g/cm^3' %(block_average_mass_density,\n",
        "     (std_block_average_mass_density/len(mass_density_in_block))))\n",
        "    print('\\n')"
      ]
    },
    {
      "cell_type": "markdown",
      "metadata": {
        "id": "WRjusmBeYsWR"
      },
      "source": [
        "## Visualize $\\rho$ and T vs Time from Production Run"
      ]
    },
    {
      "cell_type": "code",
      "execution_count": null,
      "metadata": {
        "id": "jgvcaSLFYsjn"
      },
      "outputs": [],
      "source": [
        "if __name__ == \"__main__\":\n",
        "\n",
        "    #  Set up Figure Styles\n",
        "    aw = 2\n",
        "    fs = 22\n",
        "    font = {'size': fs}\n",
        "    matplotlib.rc('font', **font)\n",
        "    matplotlib.rc('axes', linewidth=aw)\n",
        "\n",
        "    # Denote time step and sample rate\n",
        "    time_step = 5e-4\n",
        "    sample_rate = 100\n",
        "\n",
        "    # Derive time span\n",
        "    time_span = time_step * sample_rate * np.arange(0, len(data), 1)\n",
        "\n",
        "    # Load temperature and compute its block averages\n",
        "    temperature = data[:, 0]\n",
        "    block_average_temperature = get_block_average_quantities(temperature,\n",
        "                                                             n_block=5)\n",
        "\n",
        "    print('Inspect Properties from NPT Simulations: ')\n",
        "    print('\\n')\n",
        "    figure(figsize=(8, 6))\n",
        "    set_fig_properties([gca()])\n",
        "    plot(time_span, temperature, label='T')\n",
        "    plot(time_span, np.round(\n",
        "        block_average_temperature.mean(), 3) * np.ones_like(\n",
        "        time_span), 'r--',\n",
        "         label=r'$T_{block \\ avg}$', lw=3)\n",
        "    xlabel('Time (ps)')\n",
        "    ylabel('Temperature (K)')\n",
        "    ylim([220, 270])\n",
        "    legend(loc=4, fontsize=16)\n",
        "    show()\n",
        "\n",
        "    print('\\n')\n",
        "    figure(figsize=(8, 6))\n",
        "    set_fig_properties([gca()])\n",
        "    plot(time_span, mass_density/1000.0, label=r'$\\rho$')\n",
        "    plot(time_span,\n",
        "         np.round(block_average_mass_density,3) *\n",
        "         np.ones_like(time_span), 'r--',\n",
        "         label=r'$\\rho_{block \\ avg}$', lw=3)\n",
        "    xlabel('Time (ps)')\n",
        "    ylabel(r'$\\rho \\ (g/cm^{3})$')\n",
        "    ylim([0.89, 0.94])\n",
        "    legend(loc=4, fontsize=16)\n",
        "    show()"
      ]
    }
  ],
  "metadata": {
    "accelerator": "GPU",
    "colab": {
      "provenance": [],
      "gpuClass": "premium"
    },
    "gpuClass": "premium",
    "kernelspec": {
      "display_name": "Python 3",
      "name": "python3"
    },
    "language_info": {
      "name": "python"
    }
  },
  "nbformat": 4,
  "nbformat_minor": 0
}