{
  "cells": [
    {
      "cell_type": "markdown",
      "metadata": {
        "id": "gS11e4bZrKOQ"
      },
      "source": [
        "This notebook can be run on Google Colab.\n",
        "\n",
        "[![Open in Colab](https://colab.research.google.com/assets/colab-badge.svg)](https://github.com/ZKC19940412/water_ice_nep/colab-examples/example-1.ipynb)\n",
        "\n",
        "In Colab, you can enable the GPU acceleration from `Edit` > `Notebook Settings` > `Hardware accelerator` > `GPU`."
      ]
    },
    {
      "cell_type": "markdown",
      "metadata": {
        "id": "Ey31N39WsKRo"
      },
      "source": [
        "# Install TDMDpy from Source ($\\sim$ 4 min)"
      ]
    },
    {
      "cell_type": "code",
      "execution_count": null,
      "metadata": {
        "id": "slW6OyjwsOOo"
      },
      "outputs": [],
      "source": [
        "%%capture\n",
        "%cd /content/\n",
        "# Fetch tdmdpy repo\n",
        "! git clone https://github.com/ZKC19940412/tdmdpy.git\n",
        "\n",
        "# Install tdmdpy from source\n",
        "%cd tdmdpy\n",
        "! pip install .\n",
        "\n",
        "# Install pyNEP\n",
        "! chmod +x get_pyNEP.sh\n",
        "! ./get_pyNEP.sh\n",
        "! echo \"TDMDpy installation finishes!\""
      ]
    },
    {
      "cell_type": "markdown",
      "metadata": {
        "id": "VJefRqk7qVRc"
      },
      "source": [
        "# Install [GPUMD](https://github.com/brucefan1983/GPUMD) from Source ($\\sim$ 4 min)\n",
        "- More instructions can be found : https://gpumd.org/installation.html"
      ]
    },
    {
      "cell_type": "code",
      "execution_count": null,
      "metadata": {
        "id": "_k1nBQxZqU4C"
      },
      "outputs": [],
      "source": [
        "%%capture\n",
        "%cd /content/\n",
        "! git clone https://github.com/brucefan1983/GPUMD.git\n",
        "%cd /content/GPUMD/src/\n",
        "! make -j 8\n",
        "! echo \"GPUMD installation finishes!\"\n",
        "%cd /content/"
      ]
    },
    {
      "cell_type": "markdown",
      "metadata": {
        "id": "FTeLa-5Tt374"
      },
      "source": [
        "# Clean up Workspace and Fetch Nessary Files"
      ]
    },
    {
      "cell_type": "code",
      "execution_count": null,
      "metadata": {
        "id": "qstFsfLRt8-P"
      },
      "outputs": [],
      "source": [
        "%cd /content/\n",
        "! git clone https://github.com/ZKC19940412/water_ice_nep.git\n",
        "! rm -r sample_data/"
      ]
    },
    {
      "cell_type": "markdown",
      "metadata": {
        "id": "Z3tG5q2quwYv"
      },
      "source": [
        "# Import Necessary Packages"
      ]
    },
    {
      "cell_type": "code",
      "execution_count": null,
      "metadata": {
        "id": "87yitJlpuyJH"
      },
      "outputs": [],
      "source": [
        "from ase.io import read, write\n",
        "import numpy as np\n",
        "from pylab import *\n",
        "from pynvml import *\n",
        "import matplotlib.pyplot as plt\n",
        "from pynep.calculate import NEP\n",
        "import random\n",
        "from sklearn.metrics import mean_squared_error\n",
        "from tdmdpy.mlps import single_point_energy_force_prediction"
      ]
    },
    {
      "cell_type": "markdown",
      "metadata": {
        "id": "NM81QesB1cPP"
      },
      "source": [
        "# Custom Function Define"
      ]
    },
    {
      "cell_type": "code",
      "execution_count": null,
      "metadata": {
        "id": "7PcMJ-gB1dgl"
      },
      "outputs": [],
      "source": [
        "def set_fig_properties(ax_list):\n",
        "    tl = 6\n",
        "    tw = 2\n",
        "    tlm = 4\n",
        "\n",
        "    for ax in ax_list:\n",
        "        ax.tick_params(which='major', length=tl, width=tw)\n",
        "        ax.tick_params(which='minor', length=tlm, width=tw)\n",
        "        ax.tick_params(which='both', axis='both',\n",
        "                       direction='in', right=True, top=True,\n",
        "                       left=True)"
      ]
    },
    {
      "cell_type": "markdown",
      "metadata": {
        "id": "H__POD7IyLk2"
      },
      "source": [
        "# Fitting NEP Potential"
      ]
    },
    {
      "cell_type": "markdown",
      "metadata": {
        "id": "fCeLbBc3yufm"
      },
      "source": [
        "## Obtain Information about GPU Architecture for Particular colab Instance"
      ]
    },
    {
      "cell_type": "code",
      "execution_count": null,
      "metadata": {
        "id": "95I2VflTyt7-"
      },
      "outputs": [],
      "source": [
        "if __name__ == \"__main__\":\n",
        "\n",
        "    nvmlInit()\n",
        "    print(\"Driver Version:\", nvmlSystemGetDriverVersion())\n",
        "    deviceCount = nvmlDeviceGetCount()\n",
        "    for i in range(deviceCount):\n",
        "        handle = nvmlDeviceGetHandleByIndex(i)\n",
        "        print(\"Device\", i, \":\", nvmlDeviceGetName(handle))"
      ]
    },
    {
      "cell_type": "markdown",
      "metadata": {
        "id": "WBGiAUxyvDKe"
      },
      "source": [
        "## Split Datasets into Training and Testing Sets"
      ]
    },
    {
      "cell_type": "code",
      "execution_count": null,
      "metadata": {
        "id": "UMgS7QNLvG2O"
      },
      "outputs": [],
      "source": [
        "if __name__ == \"__main__\":\n",
        "\n",
        "    # Fix seed for replication\n",
        "    random.seed(42)\n",
        "\n",
        "    # Load in full data set\n",
        "    configurations = read('water_ice_nep/nep-fitting/data.xyz', index=':')\n",
        "\n",
        "    # Derive training and testing set indices as follow\n",
        "    full_data_indices = list(np.arange(0, len(configurations), 1))\n",
        "    training_set_indices = list(np.sort(random.sample(\n",
        "        full_data_indices, 700)))\n",
        "    testing_set_indices = list(set(full_data_indices).difference(\n",
        "        set(training_set_indices)))\n",
        "\n",
        "\n",
        "    # Write extended xyz for training and testing sets\n",
        "    for training_set_indice in training_set_indices:\n",
        "        write('train.xyz', configurations[training_set_indice], append=True)\n",
        "\n",
        "    for testing_set_indice in testing_set_indices:\n",
        "        write('test.xyz', configurations[testing_set_indice], append=True)"
      ]
    },
    {
      "cell_type": "markdown",
      "metadata": {
        "id": "FTaM6Dj_yH63"
      },
      "source": [
        "## Compose nep.in\n",
        "- Format and instructions for parameters can be found: https://gpumd.org/tutorials/nep_tutorial.html.\n",
        "- Batch size of 25 and generation of 1200 steps used here only serve as illustration purpose."
      ]
    },
    {
      "cell_type": "code",
      "execution_count": null,
      "metadata": {
        "id": "1IAd0SK1yeuP"
      },
      "outputs": [],
      "source": [
        "%%writefile nep.in\n",
        "version 3\n",
        "type 2 H O\n",
        "cutoff 8.0 6.0\n",
        "n_max 8 8\n",
        "basis_size 8 8\n",
        "l_max 4 2 1\n",
        "lambda_e 1.0\n",
        "lambda_f 1.0\n",
        "lambda_v 0.0\n",
        "lambda_1 0.05\n",
        "lambda_2 0.05\n",
        "neuron 50\n",
        "batch        25\n",
        "generation   1200"
      ]
    },
    {
      "cell_type": "markdown",
      "metadata": {
        "id": "Iuf3ONTTzsl2"
      },
      "source": [
        "## Peform Training ($\\sim$ 15 min)"
      ]
    },
    {
      "cell_type": "code",
      "execution_count": null,
      "metadata": {
        "id": "4lQ19iaGzt8l"
      },
      "outputs": [],
      "source": [
        "! /content/GPUMD/src/nep"
      ]
    },
    {
      "cell_type": "markdown",
      "metadata": {
        "id": "XaJrQKq51EeN"
      },
      "source": [
        "## Make Parity Plot to Visualize Training/Testing Pefromance"
      ]
    },
    {
      "cell_type": "code",
      "execution_count": null,
      "metadata": {
        "id": "H9bSJmp-1PPO"
      },
      "outputs": [],
      "source": [
        "if __name__ == \"__main__\":\n",
        "\n",
        "    #  Set up Figure Styles\n",
        "    aw = 2\n",
        "    fs = 14\n",
        "    font = {'size': fs}\n",
        "    matplotlib.rc('font', **font)\n",
        "    matplotlib.rc('axes', linewidth=aw)\n",
        "\n",
        "    # Extract force data\n",
        "    force_train = np.loadtxt('force_train.out')\n",
        "    force_test = np.loadtxt('force_test.out')\n",
        "\n",
        "    dft_force_train = force_train[:, :3]\n",
        "    dft_force_test = force_test[:, :3]\n",
        "    nep_force_train = force_train[:, 3:]\n",
        "    nep_force_test = force_test[:, 3:]\n",
        "\n",
        "    force_rmse_train = int(round(1000 * mean_squared_error(\n",
        "        dft_force_train, nep_force_train) ** 0.5, 0))\n",
        "    force_rmse_test = int(round(1000 * mean_squared_error(\n",
        "        dft_force_test, nep_force_test ) ** 0.5, 0))\n",
        "\n",
        "    figure(figsize=(10,8))\n",
        "    subplot(2, 2, 1)\n",
        "    set_fig_properties([gca()])\n",
        "    scatter(dft_force_train, nep_force_train, s=20, facecolors='none',\n",
        "            edgecolors='b', marker='o')\n",
        "    plot([dft_force_train.min(), dft_force_train.max()],\n",
        "         [dft_force_train.min(),\n",
        "          dft_force_train.max()], '--', c='k', lw=2)\n",
        "    gca().set_xticks(np.round(np.linspace(dft_force_train.min(),\n",
        "                                          dft_force_train.max(), 3), 2))\n",
        "    gca().set_yticks(np.round(np.linspace(dft_force_train.min(),\n",
        "                                          dft_force_train.max(), 3), 2))\n",
        "    text(0.2, 0.08, r'Training RMSE =' + str(\n",
        "        force_rmse_train) + r' meV/$\\AA$', c='k',\n",
        "         fontsize=14, transform=gca().transAxes)\n",
        "    xlabel(r'DFT force (eV/$\\AA$)')\n",
        "    ylabel(r'NEP force (eV/$\\AA$)')\n",
        "    subplot(2, 2, 3)\n",
        "    set_fig_properties([gca()])\n",
        "    scatter(dft_force_test, nep_force_test, s=20, facecolors='none',\n",
        "            edgecolors='b', marker='s')\n",
        "    plot([dft_force_test.min(), dft_force_test.max()],\n",
        "         [dft_force_test.min(),\n",
        "          dft_force_test.max()], '--', c='k', lw=2)\n",
        "    gca().set_xticks(np.round(np.linspace(\n",
        "        dft_force_test.min(), dft_force_test.max(), 3), 2))\n",
        "    gca().set_yticks(np.round(np.linspace(\n",
        "        dft_force_test.min(), dft_force_test.max(), 3), 2))\n",
        "    text(0.2, 0.08, r'Testing RMSE =' + str(\n",
        "        force_rmse_test) + r' meV/$\\AA$', c='k',\n",
        "         fontsize=14, transform=gca().transAxes)\n",
        "    xlabel(r'DFT force (eV/$\\AA$)')\n",
        "    ylabel(r'NEP force (eV/$\\AA$)')\n",
        "    subplots_adjust(hspace=0.3)\n",
        "    show()\n"
      ]
    },
    {
      "cell_type": "markdown",
      "metadata": {
        "id": "4u2MLEeb2S7E"
      },
      "source": [
        "# Single Point Energy & Force Predictions with Pretrain Model"
      ]
    },
    {
      "cell_type": "code",
      "execution_count": null,
      "metadata": {
        "id": "-Gu4km8eevAT"
      },
      "outputs": [],
      "source": [
        "if __name__ == \"__main__\":\n",
        "\n",
        "    # Uptake user define data path\n",
        "    data_path = './test.xyz'\n",
        "\n",
        "    # Derive number of configurations\n",
        "    number_of_configurations = len(read(data_path, index = ':'))\n",
        "\n",
        "    # Define NEP calculator\n",
        "    nep_calculator = NEP('/content/water_ice_nep/nep-pre-train-model/nep.txt')\n",
        "\n",
        "    print('ML Potential : Pretrained NEP')\n",
        "    single_point_energy_force_prediction(number_of_configurations,\n",
        "                                         nep_calculator,\n",
        "                                         data_path, atoms_per_molecule=3,\n",
        "                                         is_save_energy_and_force_file=True)"
      ]
    }
  ],
  "metadata": {
    "accelerator": "GPU",
    "colab": {
      "provenance": [],
      "gpuType": "T4",
      "gpuClass": "premium"
    },
    "kernelspec": {
      "display_name": "Python 3",
      "name": "python3"
    },
    "language_info": {
      "name": "python"
    }
  },
  "nbformat": 4,
  "nbformat_minor": 0
}